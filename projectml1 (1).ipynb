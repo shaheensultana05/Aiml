{
  "nbformat": 4,
  "nbformat_minor": 0,
  "metadata": {
    "colab": {
      "provenance": []
    },
    "kernelspec": {
      "name": "python3",
      "display_name": "Python 3"
    },
    "language_info": {
      "name": "python"
    }
  },
  "cells": [
    {
      "cell_type": "markdown",
      "source": [
        "# Importing the Libraries\n"
      ],
      "metadata": {
        "id": "8CMLVEgBsDVg"
      }
    },
    {
      "cell_type": "code",
      "execution_count": null,
      "metadata": {
        "id": "-L6jiubKadQW"
      },
      "outputs": [],
      "source": [
        "import numpy as np\n",
        "import pandas as pd\n",
        "import matplotlib.pyplot as plt"
      ]
    },
    {
      "cell_type": "markdown",
      "source": [
        "# Importing the dataset\n"
      ],
      "metadata": {
        "id": "MwE36bZtsLMo"
      }
    },
    {
      "cell_type": "code",
      "source": [
        "dataset=pd.read_csv('study hours.csv')\n",
        "print(dataset)\n",
        "print(\"\")\n",
        "dataset = dataset.replace('None', np.nan)\n",
        "dataset = dataset.dropna()\n",
        "print(dataset)\n",
        "print(\"\")\n",
        "x=dataset.iloc[:,:-1].values\n",
        "y=dataset.iloc[:,-1].values\n",
        "print(x)\n",
        "print(\"\")\n",
        "print(y)"
      ],
      "metadata": {
        "colab": {
          "base_uri": "https://localhost:8080/"
        },
        "id": "9BsjtQ97anE4",
        "outputId": "bf18347a-371c-4811-a00d-94fb8116e4aa"
      },
      "execution_count": null,
      "outputs": [
        {
          "output_type": "stream",
          "name": "stdout",
          "text": [
            "    Study Hours per week Result\n",
            "0                    NaN    NaN\n",
            "1                   12.0      p\n",
            "2                    1.0      f\n",
            "3                    5.0      f\n",
            "4                    7.0      p\n",
            "5                    2.0      f\n",
            "6                    8.0      p\n",
            "7                    9.0      p\n",
            "8                   10.0      p\n",
            "9                    6.0      p\n",
            "10                  15.0      p\n",
            "11                  11.0      p\n",
            "12                   0.0      f\n",
            "13                   7.0      p\n",
            "14                  12.0      p\n",
            "15                   1.0      f\n",
            "16                   8.0      p\n",
            "17                   3.0      f\n",
            "18                  18.0      p\n",
            "19                  16.0      p\n",
            "20                  10.0      p\n",
            "21                   9.0      p\n",
            "22                   8.0      p\n",
            "23                   1.0      f\n",
            "24                   2.0      f\n",
            "25                   3.0      f\n",
            "26                   4.0      f\n",
            "27                   4.0      f\n",
            "28                   9.0      p\n",
            "29                   5.0      f\n",
            "30                  15.0      p\n",
            "31                  16.0      p\n",
            "32                  10.0      p\n",
            "33                  11.0      p\n",
            "34                  10.0      p\n",
            "35                   8.0      p\n",
            "36                   7.0      p\n",
            "37                   0.0      f\n",
            "38                   3.0      f\n",
            "39                   NaN    NaN\n",
            "40                   NaN    NaN\n",
            "41                   NaN    NaN\n",
            "42                   NaN    NaN\n",
            "43                   NaN    NaN\n",
            "44                   NaN    NaN\n",
            "45                   NaN    NaN\n",
            "46                   NaN    NaN\n",
            "47                   NaN    NaN\n",
            "48                   NaN    NaN\n",
            "49                   NaN    NaN\n",
            "50                   NaN    NaN\n",
            "51                   NaN    NaN\n",
            "\n",
            "    Study Hours per week Result\n",
            "1                   12.0      p\n",
            "2                    1.0      f\n",
            "3                    5.0      f\n",
            "4                    7.0      p\n",
            "5                    2.0      f\n",
            "6                    8.0      p\n",
            "7                    9.0      p\n",
            "8                   10.0      p\n",
            "9                    6.0      p\n",
            "10                  15.0      p\n",
            "11                  11.0      p\n",
            "12                   0.0      f\n",
            "13                   7.0      p\n",
            "14                  12.0      p\n",
            "15                   1.0      f\n",
            "16                   8.0      p\n",
            "17                   3.0      f\n",
            "18                  18.0      p\n",
            "19                  16.0      p\n",
            "20                  10.0      p\n",
            "21                   9.0      p\n",
            "22                   8.0      p\n",
            "23                   1.0      f\n",
            "24                   2.0      f\n",
            "25                   3.0      f\n",
            "26                   4.0      f\n",
            "27                   4.0      f\n",
            "28                   9.0      p\n",
            "29                   5.0      f\n",
            "30                  15.0      p\n",
            "31                  16.0      p\n",
            "32                  10.0      p\n",
            "33                  11.0      p\n",
            "34                  10.0      p\n",
            "35                   8.0      p\n",
            "36                   7.0      p\n",
            "37                   0.0      f\n",
            "38                   3.0      f\n",
            "\n",
            "[[12.]\n",
            " [ 1.]\n",
            " [ 5.]\n",
            " [ 7.]\n",
            " [ 2.]\n",
            " [ 8.]\n",
            " [ 9.]\n",
            " [10.]\n",
            " [ 6.]\n",
            " [15.]\n",
            " [11.]\n",
            " [ 0.]\n",
            " [ 7.]\n",
            " [12.]\n",
            " [ 1.]\n",
            " [ 8.]\n",
            " [ 3.]\n",
            " [18.]\n",
            " [16.]\n",
            " [10.]\n",
            " [ 9.]\n",
            " [ 8.]\n",
            " [ 1.]\n",
            " [ 2.]\n",
            " [ 3.]\n",
            " [ 4.]\n",
            " [ 4.]\n",
            " [ 9.]\n",
            " [ 5.]\n",
            " [15.]\n",
            " [16.]\n",
            " [10.]\n",
            " [11.]\n",
            " [10.]\n",
            " [ 8.]\n",
            " [ 7.]\n",
            " [ 0.]\n",
            " [ 3.]]\n",
            "\n",
            "['p' 'f' 'f' 'p' 'f' 'p' 'p' 'p' 'p' 'p' 'p' 'f' 'p' 'p' 'f' 'p' 'f' 'p'\n",
            " 'p' 'p' 'p' 'p' 'f' 'f' 'f' 'f' 'f' 'p' 'f' 'p' 'p' 'p' 'p' 'p' 'p' 'p'\n",
            " 'f' 'f']\n"
          ]
        }
      ]
    },
    {
      "cell_type": "markdown",
      "source": [
        "# Encoding the dataset"
      ],
      "metadata": {
        "id": "74gBHYGUsRyW"
      }
    },
    {
      "cell_type": "code",
      "source": [
        "from sklearn.preprocessing import LabelEncoder\n",
        "le = LabelEncoder()\n",
        "\n",
        "dataset['Result'] = le.fit_transform(dataset['Result'])\n",
        "print(dataset)\n",
        "x = dataset.iloc[:,:-1].values\n",
        "y = dataset.iloc[:, -1].values\n",
        "print(x)\n",
        "print(\"\")\n",
        "print(y)"
      ],
      "metadata": {
        "colab": {
          "base_uri": "https://localhost:8080/"
        },
        "id": "_iFhkboHayu0",
        "outputId": "3bc58da1-476e-4ef9-f6c4-44b3fcc193e3"
      },
      "execution_count": null,
      "outputs": [
        {
          "output_type": "stream",
          "name": "stdout",
          "text": [
            "    Study Hours per week  Result\n",
            "1                   12.0       1\n",
            "2                    1.0       0\n",
            "3                    5.0       0\n",
            "4                    7.0       1\n",
            "5                    2.0       0\n",
            "6                    8.0       1\n",
            "7                    9.0       1\n",
            "8                   10.0       1\n",
            "9                    6.0       1\n",
            "10                  15.0       1\n",
            "11                  11.0       1\n",
            "12                   0.0       0\n",
            "13                   7.0       1\n",
            "14                  12.0       1\n",
            "15                   1.0       0\n",
            "16                   8.0       1\n",
            "17                   3.0       0\n",
            "18                  18.0       1\n",
            "19                  16.0       1\n",
            "20                  10.0       1\n",
            "21                   9.0       1\n",
            "22                   8.0       1\n",
            "23                   1.0       0\n",
            "24                   2.0       0\n",
            "25                   3.0       0\n",
            "26                   4.0       0\n",
            "27                   4.0       0\n",
            "28                   9.0       1\n",
            "29                   5.0       0\n",
            "30                  15.0       1\n",
            "31                  16.0       1\n",
            "32                  10.0       1\n",
            "33                  11.0       1\n",
            "34                  10.0       1\n",
            "35                   8.0       1\n",
            "36                   7.0       1\n",
            "37                   0.0       0\n",
            "38                   3.0       0\n",
            "[[12.]\n",
            " [ 1.]\n",
            " [ 5.]\n",
            " [ 7.]\n",
            " [ 2.]\n",
            " [ 8.]\n",
            " [ 9.]\n",
            " [10.]\n",
            " [ 6.]\n",
            " [15.]\n",
            " [11.]\n",
            " [ 0.]\n",
            " [ 7.]\n",
            " [12.]\n",
            " [ 1.]\n",
            " [ 8.]\n",
            " [ 3.]\n",
            " [18.]\n",
            " [16.]\n",
            " [10.]\n",
            " [ 9.]\n",
            " [ 8.]\n",
            " [ 1.]\n",
            " [ 2.]\n",
            " [ 3.]\n",
            " [ 4.]\n",
            " [ 4.]\n",
            " [ 9.]\n",
            " [ 5.]\n",
            " [15.]\n",
            " [16.]\n",
            " [10.]\n",
            " [11.]\n",
            " [10.]\n",
            " [ 8.]\n",
            " [ 7.]\n",
            " [ 0.]\n",
            " [ 3.]]\n",
            "\n",
            "[1 0 0 1 0 1 1 1 1 1 1 0 1 1 0 1 0 1 1 1 1 1 0 0 0 0 0 1 0 1 1 1 1 1 1 1 0\n",
            " 0]\n"
          ]
        }
      ]
    },
    {
      "cell_type": "markdown",
      "source": [
        "# Splitting the dataset into train & test"
      ],
      "metadata": {
        "id": "8lHt2tDuspc3"
      }
    },
    {
      "cell_type": "code",
      "source": [
        "from sklearn.model_selection import train_test_split\n",
        "\n",
        "x_train, x_test, y_train, y_test = train_test_split(x,y, test_size = 0.2, random_state = 0 )\n",
        "print(x_train)\n",
        "print(\"\")\n",
        "print(x_test)\n",
        "print(\"\")\n",
        "print(y_train)\n",
        "print(\"\")\n",
        "print(y_test)"
      ],
      "metadata": {
        "colab": {
          "base_uri": "https://localhost:8080/"
        },
        "id": "Dxb4FwH3ay1l",
        "outputId": "fe9e8a88-07c3-4692-c3c8-c6188ffa7c5b"
      },
      "execution_count": null,
      "outputs": [
        {
          "output_type": "stream",
          "name": "stdout",
          "text": [
            "[[ 4.]\n",
            " [ 5.]\n",
            " [10.]\n",
            " [10.]\n",
            " [11.]\n",
            " [ 3.]\n",
            " [ 7.]\n",
            " [16.]\n",
            " [ 8.]\n",
            " [ 6.]\n",
            " [12.]\n",
            " [ 8.]\n",
            " [18.]\n",
            " [ 1.]\n",
            " [10.]\n",
            " [ 5.]\n",
            " [ 1.]\n",
            " [ 7.]\n",
            " [ 9.]\n",
            " [ 3.]\n",
            " [ 9.]\n",
            " [ 2.]\n",
            " [ 2.]\n",
            " [16.]\n",
            " [ 8.]\n",
            " [10.]\n",
            " [15.]\n",
            " [ 0.]\n",
            " [ 7.]\n",
            " [12.]]\n",
            "\n",
            "[[ 1.]\n",
            " [15.]\n",
            " [ 3.]\n",
            " [ 8.]\n",
            " [ 0.]\n",
            " [ 9.]\n",
            " [ 4.]\n",
            " [11.]]\n",
            "\n",
            "[0 0 1 1 1 0 1 1 1 1 1 1 1 0 1 0 0 1 1 0 1 0 0 1 1 1 1 0 1 1]\n",
            "\n",
            "[0 1 0 1 0 1 0 1]\n"
          ]
        }
      ]
    },
    {
      "cell_type": "markdown",
      "source": [
        "# Feature Scaling"
      ],
      "metadata": {
        "id": "ew9lN_B2svBC"
      }
    },
    {
      "cell_type": "code",
      "source": [
        "from sklearn.preprocessing import StandardScaler\n",
        "sc = StandardScaler()\n",
        "x_train = sc.fit_transform(x_train)\n",
        "x_test =sc.transform(x_test)\n",
        "\n",
        "print(x_train)\n",
        "print(\"\")\n",
        "print(\"\")\n",
        "print(x_test)"
      ],
      "metadata": {
        "colab": {
          "base_uri": "https://localhost:8080/"
        },
        "id": "Ri7AXA5kj_Vj",
        "outputId": "0f49e8d2-929c-4bdb-d64e-04181845ae00"
      },
      "execution_count": null,
      "outputs": [
        {
          "output_type": "stream",
          "name": "stdout",
          "text": [
            "[[-0.81716624]\n",
            " [-0.60399244]\n",
            " [ 0.46187657]\n",
            " [ 0.46187657]\n",
            " [ 0.67505037]\n",
            " [-1.03034004]\n",
            " [-0.17764484]\n",
            " [ 1.74091938]\n",
            " [ 0.03552897]\n",
            " [-0.39081864]\n",
            " [ 0.88822418]\n",
            " [ 0.03552897]\n",
            " [ 2.16726699]\n",
            " [-1.45668765]\n",
            " [ 0.46187657]\n",
            " [-0.60399244]\n",
            " [-1.45668765]\n",
            " [-0.17764484]\n",
            " [ 0.24870277]\n",
            " [-1.03034004]\n",
            " [ 0.24870277]\n",
            " [-1.24351385]\n",
            " [-1.24351385]\n",
            " [ 1.74091938]\n",
            " [ 0.03552897]\n",
            " [ 0.46187657]\n",
            " [ 1.52774558]\n",
            " [-1.66986145]\n",
            " [-0.17764484]\n",
            " [ 0.88822418]]\n",
            "\n",
            "\n",
            "[[-1.45668765]\n",
            " [ 1.52774558]\n",
            " [-1.03034004]\n",
            " [ 0.03552897]\n",
            " [-1.66986145]\n",
            " [ 0.24870277]\n",
            " [-0.81716624]\n",
            " [ 0.67505037]]\n"
          ]
        }
      ]
    },
    {
      "cell_type": "markdown",
      "source": [
        "# Training the Logistic Regression model Using Training set"
      ],
      "metadata": {
        "id": "kcSw9rJoszEj"
      }
    },
    {
      "cell_type": "code",
      "source": [
        "from sklearn.linear_model import LogisticRegression\n",
        "classifier = LogisticRegression( random_state = 0)\n",
        "classifier.fit(x_train,y_train)"
      ],
      "metadata": {
        "colab": {
          "base_uri": "https://localhost:8080/",
          "height": 80
        },
        "id": "9GiTYKrtj_cR",
        "outputId": "1f862ec9-c076-4386-f86e-192e9cac009e"
      },
      "execution_count": null,
      "outputs": [
        {
          "output_type": "execute_result",
          "data": {
            "text/plain": [
              "LogisticRegression(random_state=0)"
            ],
            "text/html": [
              "<style>#sk-container-id-3 {\n",
              "  /* Definition of color scheme common for light and dark mode */\n",
              "  --sklearn-color-text: black;\n",
              "  --sklearn-color-line: gray;\n",
              "  /* Definition of color scheme for unfitted estimators */\n",
              "  --sklearn-color-unfitted-level-0: #fff5e6;\n",
              "  --sklearn-color-unfitted-level-1: #f6e4d2;\n",
              "  --sklearn-color-unfitted-level-2: #ffe0b3;\n",
              "  --sklearn-color-unfitted-level-3: chocolate;\n",
              "  /* Definition of color scheme for fitted estimators */\n",
              "  --sklearn-color-fitted-level-0: #f0f8ff;\n",
              "  --sklearn-color-fitted-level-1: #d4ebff;\n",
              "  --sklearn-color-fitted-level-2: #b3dbfd;\n",
              "  --sklearn-color-fitted-level-3: cornflowerblue;\n",
              "\n",
              "  /* Specific color for light theme */\n",
              "  --sklearn-color-text-on-default-background: var(--sg-text-color, var(--theme-code-foreground, var(--jp-content-font-color1, black)));\n",
              "  --sklearn-color-background: var(--sg-background-color, var(--theme-background, var(--jp-layout-color0, white)));\n",
              "  --sklearn-color-border-box: var(--sg-text-color, var(--theme-code-foreground, var(--jp-content-font-color1, black)));\n",
              "  --sklearn-color-icon: #696969;\n",
              "\n",
              "  @media (prefers-color-scheme: dark) {\n",
              "    /* Redefinition of color scheme for dark theme */\n",
              "    --sklearn-color-text-on-default-background: var(--sg-text-color, var(--theme-code-foreground, var(--jp-content-font-color1, white)));\n",
              "    --sklearn-color-background: var(--sg-background-color, var(--theme-background, var(--jp-layout-color0, #111)));\n",
              "    --sklearn-color-border-box: var(--sg-text-color, var(--theme-code-foreground, var(--jp-content-font-color1, white)));\n",
              "    --sklearn-color-icon: #878787;\n",
              "  }\n",
              "}\n",
              "\n",
              "#sk-container-id-3 {\n",
              "  color: var(--sklearn-color-text);\n",
              "}\n",
              "\n",
              "#sk-container-id-3 pre {\n",
              "  padding: 0;\n",
              "}\n",
              "\n",
              "#sk-container-id-3 input.sk-hidden--visually {\n",
              "  border: 0;\n",
              "  clip: rect(1px 1px 1px 1px);\n",
              "  clip: rect(1px, 1px, 1px, 1px);\n",
              "  height: 1px;\n",
              "  margin: -1px;\n",
              "  overflow: hidden;\n",
              "  padding: 0;\n",
              "  position: absolute;\n",
              "  width: 1px;\n",
              "}\n",
              "\n",
              "#sk-container-id-3 div.sk-dashed-wrapped {\n",
              "  border: 1px dashed var(--sklearn-color-line);\n",
              "  margin: 0 0.4em 0.5em 0.4em;\n",
              "  box-sizing: border-box;\n",
              "  padding-bottom: 0.4em;\n",
              "  background-color: var(--sklearn-color-background);\n",
              "}\n",
              "\n",
              "#sk-container-id-3 div.sk-container {\n",
              "  /* jupyter's `normalize.less` sets `[hidden] { display: none; }`\n",
              "     but bootstrap.min.css set `[hidden] { display: none !important; }`\n",
              "     so we also need the `!important` here to be able to override the\n",
              "     default hidden behavior on the sphinx rendered scikit-learn.org.\n",
              "     See: https://github.com/scikit-learn/scikit-learn/issues/21755 */\n",
              "  display: inline-block !important;\n",
              "  position: relative;\n",
              "}\n",
              "\n",
              "#sk-container-id-3 div.sk-text-repr-fallback {\n",
              "  display: none;\n",
              "}\n",
              "\n",
              "div.sk-parallel-item,\n",
              "div.sk-serial,\n",
              "div.sk-item {\n",
              "  /* draw centered vertical line to link estimators */\n",
              "  background-image: linear-gradient(var(--sklearn-color-text-on-default-background), var(--sklearn-color-text-on-default-background));\n",
              "  background-size: 2px 100%;\n",
              "  background-repeat: no-repeat;\n",
              "  background-position: center center;\n",
              "}\n",
              "\n",
              "/* Parallel-specific style estimator block */\n",
              "\n",
              "#sk-container-id-3 div.sk-parallel-item::after {\n",
              "  content: \"\";\n",
              "  width: 100%;\n",
              "  border-bottom: 2px solid var(--sklearn-color-text-on-default-background);\n",
              "  flex-grow: 1;\n",
              "}\n",
              "\n",
              "#sk-container-id-3 div.sk-parallel {\n",
              "  display: flex;\n",
              "  align-items: stretch;\n",
              "  justify-content: center;\n",
              "  background-color: var(--sklearn-color-background);\n",
              "  position: relative;\n",
              "}\n",
              "\n",
              "#sk-container-id-3 div.sk-parallel-item {\n",
              "  display: flex;\n",
              "  flex-direction: column;\n",
              "}\n",
              "\n",
              "#sk-container-id-3 div.sk-parallel-item:first-child::after {\n",
              "  align-self: flex-end;\n",
              "  width: 50%;\n",
              "}\n",
              "\n",
              "#sk-container-id-3 div.sk-parallel-item:last-child::after {\n",
              "  align-self: flex-start;\n",
              "  width: 50%;\n",
              "}\n",
              "\n",
              "#sk-container-id-3 div.sk-parallel-item:only-child::after {\n",
              "  width: 0;\n",
              "}\n",
              "\n",
              "/* Serial-specific style estimator block */\n",
              "\n",
              "#sk-container-id-3 div.sk-serial {\n",
              "  display: flex;\n",
              "  flex-direction: column;\n",
              "  align-items: center;\n",
              "  background-color: var(--sklearn-color-background);\n",
              "  padding-right: 1em;\n",
              "  padding-left: 1em;\n",
              "}\n",
              "\n",
              "\n",
              "/* Toggleable style: style used for estimator/Pipeline/ColumnTransformer box that is\n",
              "clickable and can be expanded/collapsed.\n",
              "- Pipeline and ColumnTransformer use this feature and define the default style\n",
              "- Estimators will overwrite some part of the style using the `sk-estimator` class\n",
              "*/\n",
              "\n",
              "/* Pipeline and ColumnTransformer style (default) */\n",
              "\n",
              "#sk-container-id-3 div.sk-toggleable {\n",
              "  /* Default theme specific background. It is overwritten whether we have a\n",
              "  specific estimator or a Pipeline/ColumnTransformer */\n",
              "  background-color: var(--sklearn-color-background);\n",
              "}\n",
              "\n",
              "/* Toggleable label */\n",
              "#sk-container-id-3 label.sk-toggleable__label {\n",
              "  cursor: pointer;\n",
              "  display: block;\n",
              "  width: 100%;\n",
              "  margin-bottom: 0;\n",
              "  padding: 0.5em;\n",
              "  box-sizing: border-box;\n",
              "  text-align: center;\n",
              "}\n",
              "\n",
              "#sk-container-id-3 label.sk-toggleable__label-arrow:before {\n",
              "  /* Arrow on the left of the label */\n",
              "  content: \"▸\";\n",
              "  float: left;\n",
              "  margin-right: 0.25em;\n",
              "  color: var(--sklearn-color-icon);\n",
              "}\n",
              "\n",
              "#sk-container-id-3 label.sk-toggleable__label-arrow:hover:before {\n",
              "  color: var(--sklearn-color-text);\n",
              "}\n",
              "\n",
              "/* Toggleable content - dropdown */\n",
              "\n",
              "#sk-container-id-3 div.sk-toggleable__content {\n",
              "  max-height: 0;\n",
              "  max-width: 0;\n",
              "  overflow: hidden;\n",
              "  text-align: left;\n",
              "  /* unfitted */\n",
              "  background-color: var(--sklearn-color-unfitted-level-0);\n",
              "}\n",
              "\n",
              "#sk-container-id-3 div.sk-toggleable__content.fitted {\n",
              "  /* fitted */\n",
              "  background-color: var(--sklearn-color-fitted-level-0);\n",
              "}\n",
              "\n",
              "#sk-container-id-3 div.sk-toggleable__content pre {\n",
              "  margin: 0.2em;\n",
              "  border-radius: 0.25em;\n",
              "  color: var(--sklearn-color-text);\n",
              "  /* unfitted */\n",
              "  background-color: var(--sklearn-color-unfitted-level-0);\n",
              "}\n",
              "\n",
              "#sk-container-id-3 div.sk-toggleable__content.fitted pre {\n",
              "  /* unfitted */\n",
              "  background-color: var(--sklearn-color-fitted-level-0);\n",
              "}\n",
              "\n",
              "#sk-container-id-3 input.sk-toggleable__control:checked~div.sk-toggleable__content {\n",
              "  /* Expand drop-down */\n",
              "  max-height: 200px;\n",
              "  max-width: 100%;\n",
              "  overflow: auto;\n",
              "}\n",
              "\n",
              "#sk-container-id-3 input.sk-toggleable__control:checked~label.sk-toggleable__label-arrow:before {\n",
              "  content: \"▾\";\n",
              "}\n",
              "\n",
              "/* Pipeline/ColumnTransformer-specific style */\n",
              "\n",
              "#sk-container-id-3 div.sk-label input.sk-toggleable__control:checked~label.sk-toggleable__label {\n",
              "  color: var(--sklearn-color-text);\n",
              "  background-color: var(--sklearn-color-unfitted-level-2);\n",
              "}\n",
              "\n",
              "#sk-container-id-3 div.sk-label.fitted input.sk-toggleable__control:checked~label.sk-toggleable__label {\n",
              "  background-color: var(--sklearn-color-fitted-level-2);\n",
              "}\n",
              "\n",
              "/* Estimator-specific style */\n",
              "\n",
              "/* Colorize estimator box */\n",
              "#sk-container-id-3 div.sk-estimator input.sk-toggleable__control:checked~label.sk-toggleable__label {\n",
              "  /* unfitted */\n",
              "  background-color: var(--sklearn-color-unfitted-level-2);\n",
              "}\n",
              "\n",
              "#sk-container-id-3 div.sk-estimator.fitted input.sk-toggleable__control:checked~label.sk-toggleable__label {\n",
              "  /* fitted */\n",
              "  background-color: var(--sklearn-color-fitted-level-2);\n",
              "}\n",
              "\n",
              "#sk-container-id-3 div.sk-label label.sk-toggleable__label,\n",
              "#sk-container-id-3 div.sk-label label {\n",
              "  /* The background is the default theme color */\n",
              "  color: var(--sklearn-color-text-on-default-background);\n",
              "}\n",
              "\n",
              "/* On hover, darken the color of the background */\n",
              "#sk-container-id-3 div.sk-label:hover label.sk-toggleable__label {\n",
              "  color: var(--sklearn-color-text);\n",
              "  background-color: var(--sklearn-color-unfitted-level-2);\n",
              "}\n",
              "\n",
              "/* Label box, darken color on hover, fitted */\n",
              "#sk-container-id-3 div.sk-label.fitted:hover label.sk-toggleable__label.fitted {\n",
              "  color: var(--sklearn-color-text);\n",
              "  background-color: var(--sklearn-color-fitted-level-2);\n",
              "}\n",
              "\n",
              "/* Estimator label */\n",
              "\n",
              "#sk-container-id-3 div.sk-label label {\n",
              "  font-family: monospace;\n",
              "  font-weight: bold;\n",
              "  display: inline-block;\n",
              "  line-height: 1.2em;\n",
              "}\n",
              "\n",
              "#sk-container-id-3 div.sk-label-container {\n",
              "  text-align: center;\n",
              "}\n",
              "\n",
              "/* Estimator-specific */\n",
              "#sk-container-id-3 div.sk-estimator {\n",
              "  font-family: monospace;\n",
              "  border: 1px dotted var(--sklearn-color-border-box);\n",
              "  border-radius: 0.25em;\n",
              "  box-sizing: border-box;\n",
              "  margin-bottom: 0.5em;\n",
              "  /* unfitted */\n",
              "  background-color: var(--sklearn-color-unfitted-level-0);\n",
              "}\n",
              "\n",
              "#sk-container-id-3 div.sk-estimator.fitted {\n",
              "  /* fitted */\n",
              "  background-color: var(--sklearn-color-fitted-level-0);\n",
              "}\n",
              "\n",
              "/* on hover */\n",
              "#sk-container-id-3 div.sk-estimator:hover {\n",
              "  /* unfitted */\n",
              "  background-color: var(--sklearn-color-unfitted-level-2);\n",
              "}\n",
              "\n",
              "#sk-container-id-3 div.sk-estimator.fitted:hover {\n",
              "  /* fitted */\n",
              "  background-color: var(--sklearn-color-fitted-level-2);\n",
              "}\n",
              "\n",
              "/* Specification for estimator info (e.g. \"i\" and \"?\") */\n",
              "\n",
              "/* Common style for \"i\" and \"?\" */\n",
              "\n",
              ".sk-estimator-doc-link,\n",
              "a:link.sk-estimator-doc-link,\n",
              "a:visited.sk-estimator-doc-link {\n",
              "  float: right;\n",
              "  font-size: smaller;\n",
              "  line-height: 1em;\n",
              "  font-family: monospace;\n",
              "  background-color: var(--sklearn-color-background);\n",
              "  border-radius: 1em;\n",
              "  height: 1em;\n",
              "  width: 1em;\n",
              "  text-decoration: none !important;\n",
              "  margin-left: 1ex;\n",
              "  /* unfitted */\n",
              "  border: var(--sklearn-color-unfitted-level-1) 1pt solid;\n",
              "  color: var(--sklearn-color-unfitted-level-1);\n",
              "}\n",
              "\n",
              ".sk-estimator-doc-link.fitted,\n",
              "a:link.sk-estimator-doc-link.fitted,\n",
              "a:visited.sk-estimator-doc-link.fitted {\n",
              "  /* fitted */\n",
              "  border: var(--sklearn-color-fitted-level-1) 1pt solid;\n",
              "  color: var(--sklearn-color-fitted-level-1);\n",
              "}\n",
              "\n",
              "/* On hover */\n",
              "div.sk-estimator:hover .sk-estimator-doc-link:hover,\n",
              ".sk-estimator-doc-link:hover,\n",
              "div.sk-label-container:hover .sk-estimator-doc-link:hover,\n",
              ".sk-estimator-doc-link:hover {\n",
              "  /* unfitted */\n",
              "  background-color: var(--sklearn-color-unfitted-level-3);\n",
              "  color: var(--sklearn-color-background);\n",
              "  text-decoration: none;\n",
              "}\n",
              "\n",
              "div.sk-estimator.fitted:hover .sk-estimator-doc-link.fitted:hover,\n",
              ".sk-estimator-doc-link.fitted:hover,\n",
              "div.sk-label-container:hover .sk-estimator-doc-link.fitted:hover,\n",
              ".sk-estimator-doc-link.fitted:hover {\n",
              "  /* fitted */\n",
              "  background-color: var(--sklearn-color-fitted-level-3);\n",
              "  color: var(--sklearn-color-background);\n",
              "  text-decoration: none;\n",
              "}\n",
              "\n",
              "/* Span, style for the box shown on hovering the info icon */\n",
              ".sk-estimator-doc-link span {\n",
              "  display: none;\n",
              "  z-index: 9999;\n",
              "  position: relative;\n",
              "  font-weight: normal;\n",
              "  right: .2ex;\n",
              "  padding: .5ex;\n",
              "  margin: .5ex;\n",
              "  width: min-content;\n",
              "  min-width: 20ex;\n",
              "  max-width: 50ex;\n",
              "  color: var(--sklearn-color-text);\n",
              "  box-shadow: 2pt 2pt 4pt #999;\n",
              "  /* unfitted */\n",
              "  background: var(--sklearn-color-unfitted-level-0);\n",
              "  border: .5pt solid var(--sklearn-color-unfitted-level-3);\n",
              "}\n",
              "\n",
              ".sk-estimator-doc-link.fitted span {\n",
              "  /* fitted */\n",
              "  background: var(--sklearn-color-fitted-level-0);\n",
              "  border: var(--sklearn-color-fitted-level-3);\n",
              "}\n",
              "\n",
              ".sk-estimator-doc-link:hover span {\n",
              "  display: block;\n",
              "}\n",
              "\n",
              "/* \"?\"-specific style due to the `<a>` HTML tag */\n",
              "\n",
              "#sk-container-id-3 a.estimator_doc_link {\n",
              "  float: right;\n",
              "  font-size: 1rem;\n",
              "  line-height: 1em;\n",
              "  font-family: monospace;\n",
              "  background-color: var(--sklearn-color-background);\n",
              "  border-radius: 1rem;\n",
              "  height: 1rem;\n",
              "  width: 1rem;\n",
              "  text-decoration: none;\n",
              "  /* unfitted */\n",
              "  color: var(--sklearn-color-unfitted-level-1);\n",
              "  border: var(--sklearn-color-unfitted-level-1) 1pt solid;\n",
              "}\n",
              "\n",
              "#sk-container-id-3 a.estimator_doc_link.fitted {\n",
              "  /* fitted */\n",
              "  border: var(--sklearn-color-fitted-level-1) 1pt solid;\n",
              "  color: var(--sklearn-color-fitted-level-1);\n",
              "}\n",
              "\n",
              "/* On hover */\n",
              "#sk-container-id-3 a.estimator_doc_link:hover {\n",
              "  /* unfitted */\n",
              "  background-color: var(--sklearn-color-unfitted-level-3);\n",
              "  color: var(--sklearn-color-background);\n",
              "  text-decoration: none;\n",
              "}\n",
              "\n",
              "#sk-container-id-3 a.estimator_doc_link.fitted:hover {\n",
              "  /* fitted */\n",
              "  background-color: var(--sklearn-color-fitted-level-3);\n",
              "}\n",
              "</style><div id=\"sk-container-id-3\" class=\"sk-top-container\"><div class=\"sk-text-repr-fallback\"><pre>LogisticRegression(random_state=0)</pre><b>In a Jupyter environment, please rerun this cell to show the HTML representation or trust the notebook. <br />On GitHub, the HTML representation is unable to render, please try loading this page with nbviewer.org.</b></div><div class=\"sk-container\" hidden><div class=\"sk-item\"><div class=\"sk-estimator fitted sk-toggleable\"><input class=\"sk-toggleable__control sk-hidden--visually\" id=\"sk-estimator-id-3\" type=\"checkbox\" checked><label for=\"sk-estimator-id-3\" class=\"sk-toggleable__label fitted sk-toggleable__label-arrow fitted\">&nbsp;&nbsp;LogisticRegression<a class=\"sk-estimator-doc-link fitted\" rel=\"noreferrer\" target=\"_blank\" href=\"https://scikit-learn.org/1.5/modules/generated/sklearn.linear_model.LogisticRegression.html\">?<span>Documentation for LogisticRegression</span></a><span class=\"sk-estimator-doc-link fitted\">i<span>Fitted</span></span></label><div class=\"sk-toggleable__content fitted\"><pre>LogisticRegression(random_state=0)</pre></div> </div></div></div></div>"
            ]
          },
          "metadata": {},
          "execution_count": 64
        }
      ]
    },
    {
      "cell_type": "markdown",
      "source": [
        "# Predicting a new result"
      ],
      "metadata": {
        "id": "i06A3fthtNaH"
      }
    },
    {
      "cell_type": "code",
      "source": [
        "print(classifier.predict(sc.transform([[19.4]])))"
      ],
      "metadata": {
        "colab": {
          "base_uri": "https://localhost:8080/"
        },
        "id": "GSuJarYSkLF9",
        "outputId": "92750073-b8f3-4158-f3a0-8d046102ad8b"
      },
      "execution_count": null,
      "outputs": [
        {
          "output_type": "stream",
          "name": "stdout",
          "text": [
            "[1]\n"
          ]
        }
      ]
    },
    {
      "cell_type": "markdown",
      "source": [
        "# Predicting the Test set results"
      ],
      "metadata": {
        "id": "SfCfAfFUtiCR"
      }
    },
    {
      "cell_type": "code",
      "source": [
        "y_pred=classifier.predict(x_test)\n",
        "print(np.concatenate((y_pred.reshape(len(y_pred),1),y_test.reshape(len(y_test),1)),1))"
      ],
      "metadata": {
        "colab": {
          "base_uri": "https://localhost:8080/"
        },
        "id": "oY-Q6D9hkbyq",
        "outputId": "d93cf0fc-f9ef-4506-ba18-7abd87410992"
      },
      "execution_count": null,
      "outputs": [
        {
          "output_type": "stream",
          "name": "stdout",
          "text": [
            "[[0 0]\n",
            " [1 1]\n",
            " [0 0]\n",
            " [1 1]\n",
            " [0 0]\n",
            " [1 1]\n",
            " [0 0]\n",
            " [1 1]]\n"
          ]
        }
      ]
    },
    {
      "cell_type": "markdown",
      "source": [
        "# Making the Confusion Matrix"
      ],
      "metadata": {
        "id": "Is0ljoH-tq4r"
      }
    },
    {
      "cell_type": "code",
      "source": [
        "from sklearn.metrics import confusion_matrix,accuracy_score\n",
        "cm = confusion_matrix(y_test, y_pred)\n",
        "print(cm)\n",
        "accuracy_score(y_test, y_pred)"
      ],
      "metadata": {
        "colab": {
          "base_uri": "https://localhost:8080/"
        },
        "id": "bguUQgUwkkmU",
        "outputId": "be370800-9873-495c-885f-61f1d94c2cb9"
      },
      "execution_count": null,
      "outputs": [
        {
          "output_type": "stream",
          "name": "stdout",
          "text": [
            "[[4 0]\n",
            " [0 4]]\n"
          ]
        },
        {
          "output_type": "execute_result",
          "data": {
            "text/plain": [
              "1.0"
            ]
          },
          "metadata": {},
          "execution_count": 67
        }
      ]
    },
    {
      "cell_type": "markdown",
      "source": [
        "# Visualising the Training set results"
      ],
      "metadata": {
        "id": "CsbvtkQdtyCf"
      }
    },
    {
      "cell_type": "code",
      "source": [
        "\n",
        "x_train_pass = x_train[y_train == 1]\n",
        "y_train_pass = y_train[y_train == 1]\n",
        "x_train_fail = x_train[y_train == 0]\n",
        "y_train_fail = y_train[y_train == 0]\n",
        "\n",
        "\n",
        "plt.scatter(x_train_pass, y_train_pass, color='green', label='Pass')\n",
        "plt.scatter(x_train_fail, y_train_fail, color='red', label='Fail')\n",
        "\n",
        "plt.title('Study Hours vs. Result (Training Set)')\n",
        "plt.xlabel('Study Hours Per Week')\n",
        "plt.ylabel('Result')\n",
        "plt.legend()\n",
        "plt.show()"
      ],
      "metadata": {
        "colab": {
          "base_uri": "https://localhost:8080/",
          "height": 472
        },
        "id": "J8kHYDZFwWTM",
        "outputId": "245cfeaa-6934-4ac0-ae94-6c2b6ae0ff40"
      },
      "execution_count": null,
      "outputs": [
        {
          "output_type": "display_data",
          "data": {
            "text/plain": [
              "<Figure size 640x480 with 1 Axes>"
            ],
            "image/png": "[encoded data removed]"
          },
          "metadata": {}
        }
      ]
    },
    {
      "cell_type": "markdown",
      "source": [
        "# Visualising the Testing set results"
      ],
      "metadata": {
        "id": "ocTB483Yt0hJ"
      }
    },
    {
      "cell_type": "code",
      "source": [
        "import matplotlib.pyplot as plt\n",
        "\n",
        "# Assuming x_train, y_train are already defined\n",
        "\n",
        "# Filter data points for Pass and Fail\n",
        "x_test_pass = x_test[y_test == 1]\n",
        "y_test_pass = y_test[y_test == 1]\n",
        "x_test_fail = x_test[y_test == 0]\n",
        "y_test_fail = y_test[y_test == 0]\n",
        "\n",
        "# Create the scatter plot\n",
        "plt.scatter(x_test_pass, y_test_pass, color='green', label='Pass')\n",
        "plt.scatter(x_test_fail, y_test_fail, color='red', label='Fail')\n",
        "\n",
        "plt.title('Study Hours vs. Result (Training Set)')\n",
        "plt.xlabel('Study Hours Per Week (Scaled)')\n",
        "plt.ylabel('Result')\n",
        "plt.legend()\n",
        "plt.show()"
      ],
      "metadata": {
        "colab": {
          "base_uri": "https://localhost:8080/",
          "height": 472
        },
        "id": "JcrgY2KUv-1x",
        "outputId": "c97c352f-738d-4a88-8802-1e99c72d60f7"
      },
      "execution_count": null,
      "outputs": [
        {
          "output_type": "display_data",
          "data": {
            "text/plain": [
              "<Figure size 640x480 with 1 Axes>"
            ],
            "image/png": "[encoded data removed]"
          },
          "metadata": {}
        }
      ]
    },
    {
      "cell_type": "markdown",
      "source": [
        "# Visualising with new datapoint & predicting result"
      ],
      "metadata": {
        "id": "B8ud6Sh4uLIE"
      }
    },
    {
      "cell_type": "code",
      "source": [
        "new_study_hours = float(input(\"Enter the study hours for the new datapoint: \"))\n",
        "new_datapoint_result = classifier.predict(sc.transform([[new_study_hours]]))\n",
        "x_test_pass = x_test[y_test == 1]\n",
        "y_test_pass = y_test[y_test == 1]\n",
        "x_test_fail = x_test[y_test  == 0]\n",
        "y_test_fail = y_test[y_test == 0]\n",
        "\n",
        "# Create the scatter plot\n",
        "plt.scatter(x_test_pass, y_test_pass, color='green', label='Pass')\n",
        "plt.scatter(x_test_fail, y_test_fail, color='red', label='Fail')\n",
        "\n",
        "if new_datapoint_result[0] == 1:\n",
        "    plt.scatter(new_study_hours, new_datapoint_result, color='yellow', marker='o', s=100, label='New Datapoint (Pass)')\n",
        "else:\n",
        "    plt.scatter(new_study_hours, new_datapoint_result, color='aqua', marker='o', s=100, label='New Datapoint (Fail)')\n",
        "\n",
        "\n",
        "plt.title('Study Hours vs. Result (Testing Set)')\n",
        "plt.xlabel('Study Hours Per Week')\n",
        "plt.ylabel('Result')\n",
        "plt.legend()\n",
        "plt.show()\n",
        "\n",
        "print(\"Predicted result for the new datapoint: \", new_datapoint_result[0])"
      ],
      "metadata": {
        "colab": {
          "base_uri": "https://localhost:8080/",
          "height": 507
        },
        "id": "8Ap-lPfVp3mq",
        "outputId": "2755ce32-1139-4ce7-bc50-d5418b5147de"
      },
      "execution_count": null,
      "outputs": [
        {
          "name": "stdout",
          "output_type": "stream",
          "text": [
            "Enter the study hours for the new datapoint: 1\n"
          ]
        },
        {
          "output_type": "display_data",
          "data": {
            "text/plain": [
              "<Figure size 640x480 with 1 Axes>"
            ],
            "image/png": "[encoded data removed]"
          },
          "metadata": {}
        },
        {
          "output_type": "stream",
          "name": "stdout",
          "text": [
            "Predicted result for the new datapoint:  0\n"
          ]
        }
      ]
    }
  ]
}